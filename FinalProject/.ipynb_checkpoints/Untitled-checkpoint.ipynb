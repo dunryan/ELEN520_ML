{
 "cells": [
  {
   "cell_type": "code",
   "execution_count": 2,
   "metadata": {},
   "outputs": [
    {
     "data": {
      "text/plain": [
       "'JU'"
      ]
     },
     "execution_count": 2,
     "metadata": {},
     "output_type": "execute_result"
    }
   ],
   "source": [
    "import pandas as pd\n",
    "import numpy as np\n",
    "\n",
    "# playerName = input(\"Enter player in question: \")\n",
    "playerName = \"Aaron Judge\"\n",
    "playerName = playerName.split(' ')\n",
    "playerName[1][0]\n",
    "playerFirstTwoInit = \"\"\n",
    "playerFirstTwoInit = playerName[1][0] + playerName[1][1].upper()\n",
    "playerFirstTwoInit\n",
    "\n"
   ]
  },
  {
   "cell_type": "code",
   "execution_count": 3,
   "metadata": {},
   "outputs": [
    {
     "data": {
      "text/html": [
       "<div>\n",
       "<style scoped>\n",
       "    .dataframe tbody tr th:only-of-type {\n",
       "        vertical-align: middle;\n",
       "    }\n",
       "\n",
       "    .dataframe tbody tr th {\n",
       "        vertical-align: top;\n",
       "    }\n",
       "\n",
       "    .dataframe thead th {\n",
       "        text-align: right;\n",
       "    }\n",
       "</style>\n",
       "<table border=\"1\" class=\"dataframe\">\n",
       "  <thead>\n",
       "    <tr style=\"text-align: right;\">\n",
       "      <th></th>\n",
       "      <th>play</th>\n",
       "      <th>inning</th>\n",
       "      <th>home/away</th>\n",
       "      <th>retroSheetID</th>\n",
       "      <th>balls</th>\n",
       "      <th>strikes</th>\n",
       "      <th>play.1</th>\n",
       "    </tr>\n",
       "  </thead>\n",
       "  <tbody>\n",
       "    <tr>\n",
       "      <th>0</th>\n",
       "      <td>start</td>\n",
       "      <td>poseb001</td>\n",
       "      <td>Buster Posey</td>\n",
       "      <td>1</td>\n",
       "      <td>4.0</td>\n",
       "      <td>2</td>\n",
       "      <td>NaN</td>\n",
       "    </tr>\n",
       "    <tr>\n",
       "      <th>1</th>\n",
       "      <td>play</td>\n",
       "      <td>1</td>\n",
       "      <td>1</td>\n",
       "      <td>poseb001</td>\n",
       "      <td>0.0</td>\n",
       "      <td>X</td>\n",
       "      <td>6/P/IF</td>\n",
       "    </tr>\n",
       "    <tr>\n",
       "      <th>2</th>\n",
       "      <td>play</td>\n",
       "      <td>3</td>\n",
       "      <td>1</td>\n",
       "      <td>poseb001</td>\n",
       "      <td>1.0</td>\n",
       "      <td>CX</td>\n",
       "      <td>53/G</td>\n",
       "    </tr>\n",
       "    <tr>\n",
       "      <th>3</th>\n",
       "      <td>play</td>\n",
       "      <td>5</td>\n",
       "      <td>1</td>\n",
       "      <td>poseb001</td>\n",
       "      <td>1.0</td>\n",
       "      <td>CX</td>\n",
       "      <td>9/F</td>\n",
       "    </tr>\n",
       "    <tr>\n",
       "      <th>4</th>\n",
       "      <td>play</td>\n",
       "      <td>7</td>\n",
       "      <td>1</td>\n",
       "      <td>poseb001</td>\n",
       "      <td>12.0</td>\n",
       "      <td>FFFBS</td>\n",
       "      <td>K</td>\n",
       "    </tr>\n",
       "  </tbody>\n",
       "</table>\n",
       "</div>"
      ],
      "text/plain": [
       "    play    inning     home/away retroSheetID  balls strikes  play.1\n",
       "0  start  poseb001  Buster Posey            1    4.0       2     NaN\n",
       "1   play         1             1     poseb001    0.0       X  6/P/IF\n",
       "2   play         3             1     poseb001    1.0      CX    53/G\n",
       "3   play         5             1     poseb001    1.0      CX     9/F\n",
       "4   play         7             1     poseb001   12.0   FFFBS       K"
      ]
     },
     "execution_count": 3,
     "metadata": {},
     "output_type": "execute_result"
    }
   ],
   "source": [
    "# BAL2015GL = pd.read_csv(\"2015BAL.EVA\")\n",
    "\n",
    "file1 = open('2015SFN.EVN', 'r')\n",
    "Lines = file1.readlines()\n",
    "len(Lines)\n",
    "cnt=0;\n",
    "\n",
    "LineSubset = open(\"playerTest2.csv\",'w')\n",
    "print('event,inning,home/away,retroSheetID,balls,strikes,play',file = LineSubset)\n",
    "\n",
    "for i in range(len(Lines)):\n",
    "    if \"poseb001\" in Lines[i]:\n",
    "        cnt = cnt+1;\n",
    "        print(Lines[i],file = LineSubset)\n",
    "        \n",
    "# column_names = [\"play\", \"inning\", \"home/away\",\"retroSheetID\",\"balls\",\"strikes\",\"play\"]\n",
    "# playerEventMatrix = pd.DataFrame(columns = column_names)\n",
    "\n",
    "data = pd.read_csv(\"playerTest2.csv\")\n",
    "data.head()"
   ]
  },
  {
   "cell_type": "code",
   "execution_count": null,
   "metadata": {},
   "outputs": [],
   "source": [
    "cols = 7\n",
    "rows = cnt\n",
    "size = cnt*7\n",
    "play = np.array([0]*size).reshape(rows,cols)\n",
    "\n",
    "for i in range(1:cnt):\n",
    "    for j in range(1:cols):\n",
    "        \n"
   ]
  }
 ],
 "metadata": {
  "kernelspec": {
   "display_name": "Python 3",
   "language": "python",
   "name": "python3"
  },
  "language_info": {
   "codemirror_mode": {
    "name": "ipython",
    "version": 3
   },
   "file_extension": ".py",
   "mimetype": "text/x-python",
   "name": "python",
   "nbconvert_exporter": "python",
   "pygments_lexer": "ipython3",
   "version": "3.8.3"
  }
 },
 "nbformat": 4,
 "nbformat_minor": 4
}

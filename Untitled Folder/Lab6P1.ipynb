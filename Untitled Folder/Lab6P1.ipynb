{
 "cells": [
  {
   "cell_type": "code",
   "execution_count": 49,
   "id": "57a25fe9",
   "metadata": {},
   "outputs": [],
   "source": [
    "import pandas as pd\n",
    "import numpy as np\n",
    "import sklearn.discriminant_analysis as lda\n",
    "import statsmodels.discrete.discrete_model as logit\n",
    "import statsmodels.formula.api as smf\n",
    "import statsmodels.api as sm\n",
    "from sklearn.discriminant_analysis import LinearDiscriminantAnalysis"
   ]
  },
  {
   "cell_type": "code",
   "execution_count": 13,
   "id": "f339e41c",
   "metadata": {},
   "outputs": [
    {
     "data": {
      "text/html": [
       "<div>\n",
       "<style scoped>\n",
       "    .dataframe tbody tr th:only-of-type {\n",
       "        vertical-align: middle;\n",
       "    }\n",
       "\n",
       "    .dataframe tbody tr th {\n",
       "        vertical-align: top;\n",
       "    }\n",
       "\n",
       "    .dataframe thead th {\n",
       "        text-align: right;\n",
       "    }\n",
       "</style>\n",
       "<table border=\"1\" class=\"dataframe\">\n",
       "  <thead>\n",
       "    <tr style=\"text-align: right;\">\n",
       "      <th></th>\n",
       "      <th>Year</th>\n",
       "      <th>Lag1</th>\n",
       "      <th>Lag2</th>\n",
       "      <th>Lag3</th>\n",
       "      <th>Lag4</th>\n",
       "      <th>Lag5</th>\n",
       "      <th>Volume</th>\n",
       "      <th>Today</th>\n",
       "      <th>Direction_Up</th>\n",
       "    </tr>\n",
       "  </thead>\n",
       "  <tbody>\n",
       "    <tr>\n",
       "      <th>0</th>\n",
       "      <td>1990</td>\n",
       "      <td>0.816</td>\n",
       "      <td>1.572</td>\n",
       "      <td>-3.936</td>\n",
       "      <td>-0.229</td>\n",
       "      <td>-3.484</td>\n",
       "      <td>0.154976</td>\n",
       "      <td>-0.270</td>\n",
       "      <td>0</td>\n",
       "    </tr>\n",
       "    <tr>\n",
       "      <th>1</th>\n",
       "      <td>1990</td>\n",
       "      <td>-0.270</td>\n",
       "      <td>0.816</td>\n",
       "      <td>1.572</td>\n",
       "      <td>-3.936</td>\n",
       "      <td>-0.229</td>\n",
       "      <td>0.148574</td>\n",
       "      <td>-2.576</td>\n",
       "      <td>0</td>\n",
       "    </tr>\n",
       "    <tr>\n",
       "      <th>2</th>\n",
       "      <td>1990</td>\n",
       "      <td>-2.576</td>\n",
       "      <td>-0.270</td>\n",
       "      <td>0.816</td>\n",
       "      <td>1.572</td>\n",
       "      <td>-3.936</td>\n",
       "      <td>0.159837</td>\n",
       "      <td>3.514</td>\n",
       "      <td>1</td>\n",
       "    </tr>\n",
       "    <tr>\n",
       "      <th>3</th>\n",
       "      <td>1990</td>\n",
       "      <td>3.514</td>\n",
       "      <td>-2.576</td>\n",
       "      <td>-0.270</td>\n",
       "      <td>0.816</td>\n",
       "      <td>1.572</td>\n",
       "      <td>0.161630</td>\n",
       "      <td>0.712</td>\n",
       "      <td>1</td>\n",
       "    </tr>\n",
       "    <tr>\n",
       "      <th>4</th>\n",
       "      <td>1990</td>\n",
       "      <td>0.712</td>\n",
       "      <td>3.514</td>\n",
       "      <td>-2.576</td>\n",
       "      <td>-0.270</td>\n",
       "      <td>0.816</td>\n",
       "      <td>0.153728</td>\n",
       "      <td>1.178</td>\n",
       "      <td>1</td>\n",
       "    </tr>\n",
       "  </tbody>\n",
       "</table>\n",
       "</div>"
      ],
      "text/plain": [
       "   Year   Lag1   Lag2   Lag3   Lag4   Lag5    Volume  Today  Direction_Up\n",
       "0  1990  0.816  1.572 -3.936 -0.229 -3.484  0.154976 -0.270             0\n",
       "1  1990 -0.270  0.816  1.572 -3.936 -0.229  0.148574 -2.576             0\n",
       "2  1990 -2.576 -0.270  0.816  1.572 -3.936  0.159837  3.514             1\n",
       "3  1990  3.514 -2.576 -0.270  0.816  1.572  0.161630  0.712             1\n",
       "4  1990  0.712  3.514 -2.576 -0.270  0.816  0.153728  1.178             1"
      ]
     },
     "execution_count": 13,
     "metadata": {},
     "output_type": "execute_result"
    }
   ],
   "source": [
    "df = pd.read_csv(\"Weekly.csv\")\n",
    "assert df.isnull().sum().sum() == 0\n",
    "\n",
    "df = pd.get_dummies(df).drop('Direction_Down',axis=1)\n",
    "df.head()"
   ]
  },
  {
   "cell_type": "code",
   "execution_count": 14,
   "id": "a4d1265f",
   "metadata": {},
   "outputs": [
    {
     "name": "stdout",
     "output_type": "stream",
     "text": [
      "Optimization terminated successfully.\n",
      "         Current function value: 0.682441\n",
      "         Iterations 4\n"
     ]
    }
   ],
   "source": [
    "formula_logit = 'Direction_Up ~ Lag1 + Lag2 + Lag3 + Lag4 + Lag5 + Volume'\n",
    "modelLogit = sm.Logit.from_formula(formula=formula_logit,data=df).fit()"
   ]
  },
  {
   "cell_type": "code",
   "execution_count": 15,
   "id": "f0947cd2",
   "metadata": {},
   "outputs": [
    {
     "data": {
      "text/html": [
       "<table class=\"simpletable\">\n",
       "<caption>Logit Regression Results</caption>\n",
       "<tr>\n",
       "  <th>Dep. Variable:</th>     <td>Direction_Up</td>   <th>  No. Observations:  </th>  <td>  1089</td> \n",
       "</tr>\n",
       "<tr>\n",
       "  <th>Model:</th>                 <td>Logit</td>      <th>  Df Residuals:      </th>  <td>  1082</td> \n",
       "</tr>\n",
       "<tr>\n",
       "  <th>Method:</th>                 <td>MLE</td>       <th>  Df Model:          </th>  <td>     6</td> \n",
       "</tr>\n",
       "<tr>\n",
       "  <th>Date:</th>            <td>Mon, 16 May 2022</td> <th>  Pseudo R-squ.:     </th> <td>0.006580</td>\n",
       "</tr>\n",
       "<tr>\n",
       "  <th>Time:</th>                <td>14:46:07</td>     <th>  Log-Likelihood:    </th> <td> -743.18</td>\n",
       "</tr>\n",
       "<tr>\n",
       "  <th>converged:</th>             <td>True</td>       <th>  LL-Null:           </th> <td> -748.10</td>\n",
       "</tr>\n",
       "<tr>\n",
       "  <th>Covariance Type:</th>     <td>nonrobust</td>    <th>  LLR p-value:       </th>  <td>0.1313</td> \n",
       "</tr>\n",
       "</table>\n",
       "<table class=\"simpletable\">\n",
       "<tr>\n",
       "      <td></td>         <th>coef</th>     <th>std err</th>      <th>z</th>      <th>P>|z|</th>  <th>[0.025</th>    <th>0.975]</th>  \n",
       "</tr>\n",
       "<tr>\n",
       "  <th>Intercept</th> <td>    0.2669</td> <td>    0.086</td> <td>    3.106</td> <td> 0.002</td> <td>    0.098</td> <td>    0.435</td>\n",
       "</tr>\n",
       "<tr>\n",
       "  <th>Lag1</th>      <td>   -0.0413</td> <td>    0.026</td> <td>   -1.563</td> <td> 0.118</td> <td>   -0.093</td> <td>    0.010</td>\n",
       "</tr>\n",
       "<tr>\n",
       "  <th>Lag2</th>      <td>    0.0584</td> <td>    0.027</td> <td>    2.175</td> <td> 0.030</td> <td>    0.006</td> <td>    0.111</td>\n",
       "</tr>\n",
       "<tr>\n",
       "  <th>Lag3</th>      <td>   -0.0161</td> <td>    0.027</td> <td>   -0.602</td> <td> 0.547</td> <td>   -0.068</td> <td>    0.036</td>\n",
       "</tr>\n",
       "<tr>\n",
       "  <th>Lag4</th>      <td>   -0.0278</td> <td>    0.026</td> <td>   -1.050</td> <td> 0.294</td> <td>   -0.080</td> <td>    0.024</td>\n",
       "</tr>\n",
       "<tr>\n",
       "  <th>Lag5</th>      <td>   -0.0145</td> <td>    0.026</td> <td>   -0.549</td> <td> 0.583</td> <td>   -0.066</td> <td>    0.037</td>\n",
       "</tr>\n",
       "<tr>\n",
       "  <th>Volume</th>    <td>   -0.0227</td> <td>    0.037</td> <td>   -0.616</td> <td> 0.538</td> <td>   -0.095</td> <td>    0.050</td>\n",
       "</tr>\n",
       "</table>"
      ],
      "text/plain": [
       "<class 'statsmodels.iolib.summary.Summary'>\n",
       "\"\"\"\n",
       "                           Logit Regression Results                           \n",
       "==============================================================================\n",
       "Dep. Variable:           Direction_Up   No. Observations:                 1089\n",
       "Model:                          Logit   Df Residuals:                     1082\n",
       "Method:                           MLE   Df Model:                            6\n",
       "Date:                Mon, 16 May 2022   Pseudo R-squ.:                0.006580\n",
       "Time:                        14:46:07   Log-Likelihood:                -743.18\n",
       "converged:                       True   LL-Null:                       -748.10\n",
       "Covariance Type:            nonrobust   LLR p-value:                    0.1313\n",
       "==============================================================================\n",
       "                 coef    std err          z      P>|z|      [0.025      0.975]\n",
       "------------------------------------------------------------------------------\n",
       "Intercept      0.2669      0.086      3.106      0.002       0.098       0.435\n",
       "Lag1          -0.0413      0.026     -1.563      0.118      -0.093       0.010\n",
       "Lag2           0.0584      0.027      2.175      0.030       0.006       0.111\n",
       "Lag3          -0.0161      0.027     -0.602      0.547      -0.068       0.036\n",
       "Lag4          -0.0278      0.026     -1.050      0.294      -0.080       0.024\n",
       "Lag5          -0.0145      0.026     -0.549      0.583      -0.066       0.037\n",
       "Volume        -0.0227      0.037     -0.616      0.538      -0.095       0.050\n",
       "==============================================================================\n",
       "\"\"\""
      ]
     },
     "metadata": {},
     "output_type": "display_data"
    }
   ],
   "source": [
    "display(modelLogit.summary())"
   ]
  },
  {
   "cell_type": "code",
   "execution_count": 42,
   "id": "17f69341",
   "metadata": {},
   "outputs": [
    {
     "data": {
      "text/plain": [
       "'Log odds for Lag1, chosen at index 2: 0.37317293094078524'"
      ]
     },
     "metadata": {},
     "output_type": "display_data"
    }
   ],
   "source": [
    "# Calculate log-odds\n",
    "\n",
    "beta0 = modelLogit.params['Intercept']\n",
    "beta1 = modelLogit.params['Lag1']\n",
    "Xtest = df['Lag1'][2]\n",
    "logOdds_lag1 = beta0 + beta1*Xtest\n",
    "display(\"Log odds for Lag1, chosen at index 2: {}\".format(logOdds_lag1))"
   ]
  },
  {
   "cell_type": "code",
   "execution_count": 46,
   "id": "59cac0ee",
   "metadata": {},
   "outputs": [
    {
     "data": {
      "text/plain": [
       "'Probability for event chosen at index 2: 0.5821018485138487'"
      ]
     },
     "metadata": {},
     "output_type": "display_data"
    }
   ],
   "source": [
    "# Then calculate the probability p(X) \n",
    "b0 = modelLogit.params['Intercept']\n",
    "b1 = modelLogit.params['Lag1'] \n",
    "b2 = modelLogit.params['Lag2'] \n",
    "b3 = modelLogit.params['Lag3'] \n",
    "b4 = modelLogit.params['Lag4'] \n",
    "b5 = modelLogit.params['Lag5'] \n",
    "b6 = modelLogit.params['Volume'] \n",
    "\n",
    "pX = (np.exp(b0)+b1*df['Lag1'][2]+b2*df['Lag2'][2]+b3*df['Lag3'][2]+b4*df['Lag4'][2]+b5*df['Lag5'][2]+b6*df['Volume'][2])/(1+np.exp(b0)+b1*df['Lag1'][2]+b2*df['Lag2'][2]+b3*df['Lag3'][2]+b4*df['Lag4'][2]+b5*df['Lag5'][2]+b6*df['Volume'][2])\n",
    "\n",
    "display(\"Probability for event chosen at index 2: {}\".format(pX))\n"
   ]
  },
  {
   "cell_type": "code",
   "execution_count": 47,
   "id": "9e68ed2a",
   "metadata": {},
   "outputs": [],
   "source": [
    "# Two classes - direction up and direction down \n",
    "np.random.seed(1)\n",
    "train = np.random.rand(len(df))<0.7\n",
    "\n",
    "predictors = ['Lag1','Lag2','Lag3','Lag4','Lag5','Volume'] \n",
    "\n",
    "xTrain = np.array(df[train][predictors])\n",
    "yTrain = np.array(df[train]['Direction_Up'])\n",
    "xTest  = np.array(df[~train][predictors])\n",
    "yTest  = np.array(df[~train]['Direction_Up'])"
   ]
  },
  {
   "cell_type": "code",
   "execution_count": 54,
   "id": "457d49ac",
   "metadata": {},
   "outputs": [],
   "source": [
    "modelLDA = LinearDiscriminantAnalysis().fit(xTrain,yTrain)\n",
    "\n",
    "yPred = modelLDA.predict(xTest)"
   ]
  },
  {
   "cell_type": "code",
   "execution_count": null,
   "id": "e631b080",
   "metadata": {},
   "outputs": [],
   "source": []
  }
 ],
 "metadata": {
  "kernelspec": {
   "display_name": "Python 3 (ipykernel)",
   "language": "python",
   "name": "python3"
  },
  "language_info": {
   "codemirror_mode": {
    "name": "ipython",
    "version": 3
   },
   "file_extension": ".py",
   "mimetype": "text/x-python",
   "name": "python",
   "nbconvert_exporter": "python",
   "pygments_lexer": "ipython3",
   "version": "3.9.7"
  }
 },
 "nbformat": 4,
 "nbformat_minor": 5
}

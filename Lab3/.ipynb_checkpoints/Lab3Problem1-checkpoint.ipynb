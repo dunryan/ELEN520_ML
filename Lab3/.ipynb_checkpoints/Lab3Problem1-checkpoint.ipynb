{
 "cells": [
  {
   "cell_type": "code",
   "execution_count": 24,
   "metadata": {},
   "outputs": [
    {
     "data": {
      "text/plain": [
       "array([[ 23,   1],\n",
       "       [ 29,   2],\n",
       "       [ 49,   3],\n",
       "       [ 64,   4],\n",
       "       [ 74,   4],\n",
       "       [ 87,   5],\n",
       "       [ 96,   6],\n",
       "       [ 97,   6],\n",
       "       [109,   7],\n",
       "       [119,   8],\n",
       "       [149,   9],\n",
       "       [145,   9],\n",
       "       [154,  10],\n",
       "       [166,  10]])"
      ]
     },
     "execution_count": 24,
     "metadata": {},
     "output_type": "execute_result"
    }
   ],
   "source": [
    "import numpy as np\n",
    "df  = np.array([ 23 ,1 ,29, 2 ,49 ,3 ,64 ,4 ,74 ,4 ,87 ,5 ,96 ,6 ,97 ,6 ,109 ,7 ,119 ,8 ,149 ,9 ,145 ,9 ,154 ,10 ,166 ,10 ])\n",
    "df = df.reshape(14,2)\n",
    "df"
   ]
  },
  {
   "cell_type": "code",
   "execution_count": 40,
   "metadata": {},
   "outputs": [
    {
     "name": "stdout",
     "output_type": "stream",
     "text": [
      "[529, 841, 2401, 4096, 5476, 7569, 9216, 9409, 11881, 14161, 22201, 21025, 23716, 27556]\n",
      "[23, 58, 147, 256, 296, 435, 576, 582, 763, 952, 1341, 1305, 1540, 1660]\n"
     ]
    }
   ],
   "source": [
    "len(df[:,1])\n",
    "xsq = [0]*len(df[:,1])\n",
    "xy = [0]*len(df[:,1])\n",
    "for i in range(len(df)):\n",
    "    xsq[i] = df[i,0]*df[i,0]\n",
    "    xy[i] = df[i,0]*df[i,1]\n",
    "print(xsq)\n",
    "print(xy)"
   ]
  },
  {
   "cell_type": "code",
   "execution_count": 46,
   "metadata": {},
   "outputs": [
    {
     "name": "stdout",
     "output_type": "stream",
     "text": [
      "160077\n",
      "9934\n",
      "1361\n",
      "84\n"
     ]
    }
   ],
   "source": [
    "# Apply least squares method of computing linear regression\n",
    "sum_xsq = sum(xsq)\n",
    "sum_xy = sum(xy)\n",
    "sum_x = sum(df[:,0])\n",
    "sum_y = sum(df[:,1])\n",
    "N = len(df[:,1])\n",
    "print(sum_xsq)\n",
    "print(sum_xy)\n",
    "print(sum_x)\n",
    "print(sum_y)\n"
   ]
  },
  {
   "cell_type": "code",
   "execution_count": 50,
   "metadata": {},
   "outputs": [
    {
     "name": "stdout",
     "output_type": "stream",
     "text": [
      "0.06366959308771289\n"
     ]
    }
   ],
   "source": [
    "# Compute slope\n",
    "m = (N*(sum_xy)-sum_x*sum_y)/(N*sum_xsq - sum_x*sum_x)\n",
    "print(m)"
   ]
  },
  {
   "cell_type": "code",
   "execution_count": 51,
   "metadata": {},
   "outputs": [
    {
     "name": "stdout",
     "output_type": "stream",
     "text": [
      "-0.18959401374123125\n"
     ]
    }
   ],
   "source": [
    "# Compute Y-intercept\n",
    "b = (sum_y - m*sum_x)/N\n",
    "print(b)"
   ]
  },
  {
   "cell_type": "code",
   "execution_count": 52,
   "metadata": {},
   "outputs": [],
   "source": [
    "import matplotlib.pyplot as plt"
   ]
  },
  {
   "cell_type": "code",
   "execution_count": 53,
   "metadata": {
    "scrolled": true
   },
   "outputs": [
    {
     "data": {
      "text/plain": [
       "<matplotlib.collections.PathCollection at 0x159cf329dc0>"
      ]
     },
     "execution_count": 53,
     "metadata": {},
     "output_type": "execute_result"
    },
    {
     "data": {
      "image/png": "[encoded data removed]",
      "text/plain": [
       "<Figure size 432x288 with 1 Axes>"
      ]
     },
     "metadata": {
      "needs_background": "light"
     },
     "output_type": "display_data"
    }
   ],
   "source": [
    "plt.scatter(df[:,0],df[:,1])"
   ]
  },
  {
   "cell_type": "code",
   "execution_count": 56,
   "metadata": {},
   "outputs": [
    {
     "data": {
      "text/plain": [
       "array([  0,   1,   2,   3,   4,   5,   6,   7,   8,   9,  10,  11,  12,\n",
       "        13,  14,  15,  16,  17,  18,  19,  20,  21,  22,  23,  24,  25,\n",
       "        26,  27,  28,  29,  30,  31,  32,  33,  34,  35,  36,  37,  38,\n",
       "        39,  40,  41,  42,  43,  44,  45,  46,  47,  48,  49,  50,  51,\n",
       "        52,  53,  54,  55,  56,  57,  58,  59,  60,  61,  62,  63,  64,\n",
       "        65,  66,  67,  68,  69,  70,  71,  72,  73,  74,  75,  76,  77,\n",
       "        78,  79,  80,  81,  82,  83,  84,  85,  86,  87,  88,  89,  90,\n",
       "        91,  92,  93,  94,  95,  96,  97,  98,  99, 100, 101, 102, 103,\n",
       "       104, 105, 106, 107, 108, 109, 110, 111, 112, 113, 114, 115, 116,\n",
       "       117, 118, 119, 120, 121, 122, 123, 124, 125, 126, 127, 128, 129,\n",
       "       130, 131, 132, 133, 134, 135, 136, 137, 138, 139, 140, 141, 142,\n",
       "       143, 144, 145, 146, 147, 148, 149, 150, 151, 152, 153, 154, 155,\n",
       "       156, 157, 158, 159])"
      ]
     },
     "execution_count": 56,
     "metadata": {},
     "output_type": "execute_result"
    }
   ],
   "source": [
    "xTest = np.arange(0,160)\n",
    "xTest"
   ]
  },
  {
   "cell_type": "code",
   "execution_count": 57,
   "metadata": {},
   "outputs": [],
   "source": [
    "yTest = m*xTest+b"
   ]
  },
  {
   "cell_type": "code",
   "execution_count": 59,
   "metadata": {},
   "outputs": [
    {
     "data": {
      "text/plain": [
       "Text(0, 0.5, 'Units')"
      ]
     },
     "execution_count": 59,
     "metadata": {},
     "output_type": "execute_result"
    },
    {
     "data": {
      "image/png": "[encoded data removed]",
      "text/plain": [
       "<Figure size 432x288 with 1 Axes>"
      ]
     },
     "metadata": {
      "needs_background": "light"
     },
     "output_type": "display_data"
    }
   ],
   "source": [
    "plt.scatter(df[:,0],df[:,1])\n",
    "plt.plot(xTest,yTest,c='red')\n",
    "plt.xlabel('Minutes')\n",
    "plt.ylabel('Units')"
   ]
  },
  {
   "cell_type": "code",
   "execution_count": 63,
   "metadata": {},
   "outputs": [],
   "source": [
    "# Compute correlation coefficient\n",
    "yi_diff_ybar = [0]*len(df[:,1])\n",
    "xi_diff_ybar = [0]*len(df[:,1])\n",
    "for i in range(len(df[:,0])):\n",
    "    yi_diff_ybar[i]= df[i,1] - np.mean(df,axis=1)\n",
    "    xi_diff_ybar[i] = df[i,0] - np.mean(df,axis=0)\n"
   ]
  },
  {
   "cell_type": "code",
   "execution_count": null,
   "metadata": {},
   "outputs": [],
   "source": []
  }
 ],
 "metadata": {
  "kernelspec": {
   "display_name": "Python 3",
   "language": "python",
   "name": "python3"
  },
  "language_info": {
   "codemirror_mode": {
    "name": "ipython",
    "version": 3
   },
   "file_extension": ".py",
   "mimetype": "text/x-python",
   "name": "python",
   "nbconvert_exporter": "python",
   "pygments_lexer": "ipython3",
   "version": "3.8.3"
  }
 },
 "nbformat": 4,
 "nbformat_minor": 4
}

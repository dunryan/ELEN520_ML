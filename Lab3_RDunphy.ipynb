{
 "cells": [
  {
   "cell_type": "code",
   "execution_count": 21,
   "metadata": {},
   "outputs": [
    {
     "name": "stdout",
     "output_type": "stream",
     "text": [
      "[[  1  23]\n",
      " [  2  29]\n",
      " [  3  49]\n",
      " [  4  64]\n",
      " [  4  74]\n",
      " [  5  87]\n",
      " [  6  96]\n",
      " [  6  97]\n",
      " [  7 109]\n",
      " [  8 119]\n",
      " [  9 149]\n",
      " [  9 145]\n",
      " [ 10 154]\n",
      " [ 10 166]]\n"
     ]
    }
   ],
   "source": [
    "import numpy as np\n",
    "import matplotlib.pyplot as plt\n",
    "\n",
    "df1  = np.array([ 23 ,1 ,29, 2 ,49 ,3 ,64 ,4 ,74 ,4 ,87 ,5 ,96 ,6 ,97 ,6 ,109 ,7 ,119 ,8 ,149 ,9 ,145 ,9 ,154 ,10 ,166 ,10 ])\n",
    "df1 = df.reshape(14,2)\n",
    "\n",
    "df2 = np.flip(df,axis=1)\n",
    "print(df2)"
   ]
  },
  {
   "cell_type": "code",
   "execution_count": 58,
   "metadata": {},
   "outputs": [
    {
     "data": {
      "text/plain": [
       "Text(0, 0.5, 'Units')"
      ]
     },
     "execution_count": 58,
     "metadata": {},
     "output_type": "execute_result"
    },
    {
     "data": {
      "image/png": "[encoded data removed]",
      "text/plain": [
       "<Figure size 432x288 with 1 Axes>"
      ]
     },
     "metadata": {
      "needs_background": "light"
     },
     "output_type": "display_data"
    }
   ],
   "source": [
    "# 1. Write a Python program to calculate the estimated slope and coefficient for the Computer \n",
    "#Repair dataset using the expressions derived by the method of least squares. \n",
    "N = len(df[:,1])\n",
    "xMean = sum(df2[:,0])/14\n",
    "yMean = sum(df2[:,1])/14\n",
    "\n",
    "xi_xb = df2.copy()\n",
    "xi_xb = xi_xb[:,0]\n",
    "\n",
    "xi_xb = [x - xMean for x in xi_xb]\n",
    "\n",
    "yi_yb = df2.copy()\n",
    "yi_yb = yi_yb[:,1]\n",
    "\n",
    "yi_yb = [x - yMean for x in yi_yb]\n",
    "\n",
    "yiyb_xixb   = [0]*len(df2[:,1])\n",
    "xi_xbSQ     = [0]*len(df2[:,1])\n",
    "yi_ybSQ     = [0]*len(df2[:,1])\n",
    "\n",
    "for i in range(len(df2[:,1])):\n",
    "    yiyb_xixb[i] = xi_xb[i]*yi_yb[i]\n",
    "    xi_xbSQ[i]   = xi_xb[i]*xi_xb[i]\n",
    "    yi_ybSQ[i]   = yi_yb[i]*yi_yb[i]\n",
    "    \n",
    "sum_xsq = sum(xi_xbSQ)\n",
    "sum_xy = sum(yiyb_xixb)\n",
    "sum_x = sum(df2[:,0])\n",
    "sum_y = sum(df2[:,1])\n",
    "\n",
    "# Apply least squares method of computing linear regression\n",
    "\n",
    "# Compute slope\n",
    "m = sum_xy/sum_xsq\n",
    "\n",
    "# Compute Y-intercept\n",
    "b = (sum_y - m*sum_x)/N\n",
    "\n",
    "xTest = np.arange(0,11)\n",
    "yTest = m*xTest+b\n",
    "plt.scatter(df2[:,0],df2[:,1])\n",
    "plt.plot(xTest,yTest,c='red')\n",
    "plt.xlabel('Minutes')\n",
    "plt.ylabel('Units')"
   ]
  },
  {
   "cell_type": "code",
   "execution_count": 66,
   "metadata": {},
   "outputs": [
    {
     "name": "stdout",
     "output_type": "stream",
     "text": [
      "-0.0\n"
     ]
    }
   ],
   "source": [
    "# 2. Write a Python program to calculate the correlation coefficient for the Computer Repair dataset. \n",
    "\n",
    "sx = np.sqrt(sum(xi_xbSQ)/(N-1))\n",
    "sy = np.sqrt(sum(yi_ybSQ)/(N-1))\n",
    "\n",
    "#for i in range(len(df2[:,0])):\n",
    "\n",
    "#print(yi_diff_ybarSQ)\n",
    "\n",
    "r = 1/(N-1)*(sum(yi_yb)/sy)*(sum(xi_xb)/sx)\n",
    "print(r)\n",
    "\n",
    "# 0 correlation"
   ]
  },
  {
   "cell_type": "code",
   "execution_count": 79,
   "metadata": {},
   "outputs": [
    {
     "data": {
      "text/plain": [
       "103.69382319526412"
      ]
     },
     "execution_count": 79,
     "metadata": {},
     "output_type": "execute_result"
    }
   ],
   "source": [
    "# 3. Write a Python program to calculate the standard errors of the estimated slope and estimated intercept. \n",
    "\n",
    "sigma = np.sqrt(sum(yi_ybSQ))\n",
    "\n",
    "s_e = sigma*np.sqrt((1/N)+((xMean**2)/sum(xi_xbSQ)))\n",
    "s_e"
   ]
  },
  {
   "cell_type": "code",
   "execution_count": null,
   "metadata": {},
   "outputs": [],
   "source": []
  }
 ],
 "metadata": {
  "kernelspec": {
   "display_name": "Python 3 (ipykernel)",
   "language": "python",
   "name": "python3"
  },
  "language_info": {
   "codemirror_mode": {
    "name": "ipython",
    "version": 3
   },
   "file_extension": ".py",
   "mimetype": "text/x-python",
   "name": "python",
   "nbconvert_exporter": "python",
   "pygments_lexer": "ipython3",
   "version": "3.9.7"
  }
 },
 "nbformat": 4,
 "nbformat_minor": 4
}
